{
 "cells": [
  {
   "cell_type": "code",
   "execution_count": 2,
   "id": "9e4c2a20-4b0f-4770-9bb9-7886b2a9a8a0",
   "metadata": {},
   "outputs": [],
   "source": [
    "import io\n",
    "import cv2\n",
    "from PIL import Image\n",
    "import pytesseract\n",
    "from pdf2image import convert_from_path\n",
    "import psycopg2"
   ]
  },
  {
   "cell_type": "code",
   "execution_count": 3,
   "id": "232247dd-625a-4fb8-9e83-352c30aeded3",
   "metadata": {},
   "outputs": [],
   "source": [
    "from dedoc import DedocManager\n",
    "from dedoc.attachments_handler import AttachmentsHandler\n",
    "from dedoc.converters import DocxConverter, PNGConverter, ConverterComposition\n",
    "from dedoc.metadata_extractors import BaseMetadataExtractor, MetadataExtractorComposition\n",
    "from dedoc.readers import DocxReader, PdfAutoReader, PdfImageReader, ReaderComposition\n",
    "from dedoc.structure_extractors import DefaultStructureExtractor, StructureExtractorComposition\n",
    "from dedoc.structure_constructors import TreeConstructor, StructureConstructorComposition"
   ]
  },
  {
   "cell_type": "code",
   "execution_count": 4,
   "id": "6a50a863-180f-43b3-a33f-ba1a07393776",
   "metadata": {},
   "outputs": [
    {
     "name": "stderr",
     "output_type": "stream",
     "text": [
      "/usr/local/lib/python3.10/site-packages/tqdm/auto.py:21: TqdmWarning: IProgress not found. Please update jupyter and ipywidgets. See https://ipywidgets.readthedocs.io/en/stable/user_install.html\n",
      "  from .autonotebook import tqdm as notebook_tqdm\n"
     ]
    },
    {
     "name": "stdout",
     "output_type": "stream",
     "text": [
      "2024-12-24 13:28:13,732 - /usr/local/lib/python3.10/site-packages/dedoc/readers/pdf_reader/pdf_image_reader/columns_orientation_classifier/columns_orientation_classifier.py - WARNING - Classifier is set to device cpu\n",
      "2024-12-24 13:28:13,734 - /usr/local/lib/python3.10/site-packages/dedoc/readers/pdf_reader/pdf_image_reader/columns_orientation_classifier/columns_orientation_classifier.py - WARNING - Classifier is set to device cpu\n"
     ]
    }
   ],
   "source": [
    "dedoc_manager = DedocManager(\n",
    "    manager_config={\n",
    "        \"attachments_handler\": AttachmentsHandler(),\n",
    "        \"converter\": ConverterComposition([DocxConverter(), PNGConverter()]),\n",
    "        \"reader\": ReaderComposition([DocxReader(), PdfAutoReader(), PdfImageReader()]),\n",
    "        \"structure_extractor\": StructureExtractorComposition(extractors={DefaultStructureExtractor.document_type: DefaultStructureExtractor()}, default_key=DefaultStructureExtractor.document_type),\n",
    "        \"structure_constructor\": StructureConstructorComposition(constructors={\"tree\": TreeConstructor()}, default_constructor=TreeConstructor()),\n",
    "        \"document_metadata_extractor\": MetadataExtractorComposition([BaseMetadataExtractor()])\n",
    "    }\n",
    ")"
   ]
  },
  {
   "cell_type": "code",
   "execution_count": 5,
   "id": "1f968048-a382-4d6c-bede-6a93dd96fef9",
   "metadata": {},
   "outputs": [
    {
     "name": "stdout",
     "output_type": "stream",
     "text": [
      "2024-12-24 13:28:13,742 - /usr/local/lib/python3.10/site-packages/dedoc/dedoc_manager.py - INFO - Get file scan3.pdf with parameters {'document_type': '', 'patterns': '', 'structure_type': 'tree', 'return_format': 'json', 'with_attachments': 'false', 'need_content_analysis': 'false', 'recursion_deep_attachments': '10', 'return_base64': 'false', 'need_pdf_table_analysis': 'true', 'table_type': '', 'orient_analysis_cells': 'false', 'orient_cell_angle': '90', 'pdf_with_text_layer': 'auto_tabby', 'fast_textual_layer_detection': 'false', 'language': 'rus+eng', 'pages': ':', 'is_one_column_document': 'auto', 'document_orientation': 'auto', 'need_header_footer_analysis': 'false', 'need_binarization': 'false', 'need_gost_frame_analysis': 'false', 'delimiter': None, 'encoding': None, 'html_fields': '', 'handle_invisible_table': 'false', 'attachments_dir': 'Data/PDF/scan'}\n",
      "2024-12-24 13:28:13,747 - /usr/local/lib/python3.10/site-packages/dedoc/dedoc_manager.py - INFO - Start handle Data/PDF/scan/scan3.pdf\n",
      "2024-12-24 13:28:13,887 - /usr/local/lib/python3.10/site-packages/dedoc/readers/pdf_reader/pdf_txtlayer_reader/pdf_tabby_reader.py - INFO - Reading PDF pages from 1 to 1\n"
     ]
    },
    {
     "name": "stderr",
     "output_type": "stream",
     "text": [
      "/usr/local/lib/python3.10/site-packages/pypdf/_crypt_providers/_cryptography.py:32: CryptographyDeprecationWarning: ARC4 has been moved to cryptography.hazmat.decrepit.ciphers.algorithms.ARC4 and will be removed from cryptography.hazmat.primitives.ciphers.algorithms in 48.0.0.\n",
      "  from cryptography.hazmat.primitives.ciphers.algorithms import AES, ARC4\n"
     ]
    },
    {
     "name": "stdout",
     "output_type": "stream",
     "text": [
      "2024-12-24 13:28:20,478 - /usr/local/lib/python3.10/site-packages/dedoc/readers/pdf_reader/pdf_auto_reader/pdf_auto_reader.py - INFO - Assume document 1735046893_126.pdf has incorrect textual layer\n"
     ]
    },
    {
     "name": "stderr",
     "output_type": "stream",
     "text": [
      "/usr/local/lib/python3.10/site-packages/dedoc/structure_extractors/feature_extractors/abstract_extractor.py:332: FutureWarning: Downcasting object dtype arrays on .fillna, .ffill, .bfill is deprecated and will change in a future version. Call result.infer_objects(copy=False) instead. To opt-in to the future behavior, set `pd.set_option('future.no_silent_downcasting', True)`\n",
      "  feature_column = feature_column.fillna(feature_column.min() - 1)\n"
     ]
    },
    {
     "name": "stdout",
     "output_type": "stream",
     "text": [
      "2024-12-24 13:28:20,968 - /usr/local/lib/python3.10/site-packages/dedoc/readers/pdf_reader/pdf_base_reader.py - INFO - Get page from 1 to 1 of 1 file 1735046893_126.pdf\n",
      "2024-12-24 13:28:21,727 - /usr/local/lib/python3.10/site-packages/dedoc/readers/pdf_reader/pdf_image_reader/columns_orientation_classifier/columns_orientation_classifier.py - INFO - Weights were loaded from /root/.cache/dedoc/resources/scan_orientation_efficient_net_b0.pth\n",
      "2024-12-24 13:28:22,436 - /usr/local/lib/python3.10/site-packages/dedoc/readers/pdf_reader/pdf_image_reader/pdf_image_reader.py - INFO - Predicted orientation angle = 0, columns = 1\n",
      "2024-12-24 13:28:22,437 - /usr/local/lib/python3.10/site-packages/dedoc/readers/pdf_reader/pdf_image_reader/pdf_image_reader.py - INFO - Final orientation angle = 0, is_one_column_document = True\n",
      "2024-12-24 13:28:27,134 - /usr/local/lib/python3.10/site-packages/dedoc/dedoc_manager.py - INFO - Extract content from file scan3.pdf\n",
      "2024-12-24 13:28:27,135 - /usr/local/lib/python3.10/site-packages/dedoc/dedoc_manager.py - INFO - Extract structure from file scan3.pdf\n",
      "2024-12-24 13:28:27,143 - /usr/local/lib/python3.10/site-packages/dedoc/dedoc_manager.py - INFO - Get structured document scan3.pdf\n",
      "2024-12-24 13:28:27,143 - /usr/local/lib/python3.10/site-packages/dedoc/dedoc_manager.py - INFO - Get attachments scan3.pdf\n",
      "2024-12-24 13:28:27,144 - /usr/local/lib/python3.10/site-packages/dedoc/dedoc_manager.py - INFO - Finish handle scan3.pdf\n"
     ]
    }
   ],
   "source": [
    "parsed_document = dedoc_manager.parse(file_path='Data/PDF/scan/scan3.pdf')"
   ]
  },
  {
   "cell_type": "code",
   "execution_count": 6,
   "id": "877ff1e1-ab07-4f59-ae69-d85577294a63",
   "metadata": {},
   "outputs": [],
   "source": [
    "def concat_subpara(full, para):\n",
    "    # full = []\n",
    "    full.append(para.text)\n",
    "    if len(para.subparagraphs) > 0:\n",
    "        for par in para.subparagraphs:\n",
    "            concat_subpara(full, par)\n",
    "    return full"
   ]
  },
  {
   "cell_type": "code",
   "execution_count": 7,
   "id": "b4654a69-23dc-4a6e-a0f2-3459e0cf47cf",
   "metadata": {
    "scrolled": true
   },
   "outputs": [],
   "source": [
    "rec = concat_subpara([], parsed_document.content.structure)"
   ]
  },
  {
   "cell_type": "code",
   "execution_count": 8,
   "id": "b45f6a82-b1ab-493c-9166-aaa27f88d570",
   "metadata": {},
   "outputs": [
    {
     "data": {
      "text/plain": [
       "['',\n",
       " 'Департамент\\nгосударственной политики\\nв сфере научно-технологического развития\\n',\n",
       " 'Министерства науки и высшего\\nобразования Российской Федерации\\n \\n',\n",
       " 'Министерство науки и высшего образования\\nРоссийской Федерации\\n',\n",
       " 'Федеральное государственное бюджетное\\nобразовательное учреждение высшего образования\\n',\n",
       " '«Московский государственный\\nтехнический университет имени Н.Э.Баумана»\\n(национальный исследовательский университет)»\\n(МГТУ им.Н.Э.Баумана)\\n105005,гМосква, 2-я Бауманская ул.,д. 5,стр. 1\\nтел. +7 (499) 263-63-91 факс+7 (499) 267-48-44\\nbmstu.ru bauman@bmstu.ru\\n0ГРН1027739051779\\n',\n",
       " 'ИНН7701002520  КПП770101001\\n',\n",
       " '004 2024 № 0104 - 08 [386 #\\n \\n',\n",
       " 'СОПРОВОДИТЕЛЬНОЕ ПИСЬМО\\n',\n",
       " 'Направляем заявку на участие в конкурсном отборе 2024 года на назначение\\nстипендии Президента Российской Федерации для аспирантов и адъюнктов, обучающихся\\nпо очной форме обучения в российских организациях, осуществляющих образовательную\\nдеятельность, и проводящих научные исследования в рамках реализации приоритетов\\nнаучно-технологического развития Российской Федерации, определенных в Стратегии\\nнаучно-технологического развития Российской Федерации.\\n',\n",
       " 'Регистрационный номер: SPN.2024.01630\\n',\n",
       " 'Полное наименование организации (место учебы аспиранта (адъюнкта)):\\nФедеральное государственное бюджетное образовательное учреждение высшего\\nобразования \"Московский государственный технический университет имени Н.Э. Баумана\\n(национальный исследовательский университет)\"\\n',\n",
       " 'ФИО соискателя стипендии: Гокарев Вадим Николаевич\\n',\n",
       " 'Год рождения соискателя стипендии: 1999\\n',\n",
       " 'Статус: Аспирант\\n',\n",
       " 'Форма обучения: очная\\n',\n",
       " 'Курс: 1\\n',\n",
       " 'Дата поступления в аспирантуру (адъюнктуру): 01.09.2023\\n',\n",
       " 'Плановая дата окончания аспирантуры (адъюнктуры): 31.08.2026\\nНаучная специальность:\\n',\n",
       " '',\n",
       " '2.3.5 Математическое и программное обеспечение вычислительных систем,\\n',\n",
       " 'комплексов и компьютерных сетей\\n',\n",
       " 'Тема диссертации: Гибридные модели и методы программного обеспечения\\nанализа и обработки текстовых коллекций на естественном языке\\n',\n",
       " 'Приоритег научно-технологического развития: Переход к передовым\\nтехнологиям проектирования и создания высокотехнологичной продукции, основанным\\nна применении интеллектуальных производственных решений, роботизированных и\\nвысокопроизводительных вычислительных систем, новых материалов и химических\\nсоединений, результатов обработки больших объемов данных, технологий машинного\\nобучения и искусственного интеллекта\\n',\n",
       " 'ФИО научного руководителя: Березкин Дмитрий Валерьевич\\n']"
      ]
     },
     "execution_count": 8,
     "metadata": {},
     "output_type": "execute_result"
    }
   ],
   "source": [
    "rec"
   ]
  },
  {
   "cell_type": "code",
   "execution_count": 9,
   "id": "64d497f6-3a80-405f-9cdf-9e5055011502",
   "metadata": {},
   "outputs": [],
   "source": [
    "for i in range(len(rec)):\n",
    "    rec[i] = rec[i].replace('\\n','')"
   ]
  },
  {
   "cell_type": "code",
   "execution_count": 10,
   "id": "0aaf7850-29ab-4862-b513-6ba4b89cb333",
   "metadata": {},
   "outputs": [
    {
     "name": "stdout",
     "output_type": "stream",
     "text": [
      "0) \n",
      "1) Департаментгосударственной политикив сфере научно-технологического развития\n",
      "2) Министерства науки и высшегообразования Российской Федерации \n",
      "3) Министерство науки и высшего образованияРоссийской Федерации\n",
      "4) Федеральное государственное бюджетноеобразовательное учреждение высшего образования\n",
      "5) «Московский государственныйтехнический университет имени Н.Э.Баумана»(национальный исследовательский университет)»(МГТУ им.Н.Э.Баумана)105005,гМосква, 2-я Бауманская ул.,д. 5,стр. 1тел. +7 (499) 263-63-91 факс+7 (499) 267-48-44bmstu.ru bauman@bmstu.ru0ГРН1027739051779\n",
      "6) ИНН7701002520  КПП770101001\n",
      "7) 004 2024 № 0104 - 08 [386 # \n",
      "8) СОПРОВОДИТЕЛЬНОЕ ПИСЬМО\n",
      "9) Направляем заявку на участие в конкурсном отборе 2024 года на назначениестипендии Президента Российской Федерации для аспирантов и адъюнктов, обучающихсяпо очной форме обучения в российских организациях, осуществляющих образовательнуюдеятельность, и проводящих научные исследования в рамках реализации приоритетовнаучно-технологического развития Российской Федерации, определенных в Стратегиинаучно-технологического развития Российской Федерации.\n",
      "10) Регистрационный номер: SPN.2024.01630\n",
      "11) Полное наименование организации (место учебы аспиранта (адъюнкта)):Федеральное государственное бюджетное образовательное учреждение высшегообразования \"Московский государственный технический университет имени Н.Э. Баумана(национальный исследовательский университет)\"\n",
      "12) ФИО соискателя стипендии: Гокарев Вадим Николаевич\n",
      "13) Год рождения соискателя стипендии: 1999\n",
      "14) Статус: Аспирант\n",
      "15) Форма обучения: очная\n",
      "16) Курс: 1\n",
      "17) Дата поступления в аспирантуру (адъюнктуру): 01.09.2023\n",
      "18) Плановая дата окончания аспирантуры (адъюнктуры): 31.08.2026Научная специальность:\n",
      "19) \n",
      "20) 2.3.5 Математическое и программное обеспечение вычислительных систем,\n",
      "21) комплексов и компьютерных сетей\n",
      "22) Тема диссертации: Гибридные модели и методы программного обеспеченияанализа и обработки текстовых коллекций на естественном языке\n",
      "23) Приоритег научно-технологического развития: Переход к передовымтехнологиям проектирования и создания высокотехнологичной продукции, основаннымна применении интеллектуальных производственных решений, роботизированных ивысокопроизводительных вычислительных систем, новых материалов и химическихсоединений, результатов обработки больших объемов данных, технологий машинногообучения и искусственного интеллекта\n",
      "24) ФИО научного руководителя: Березкин Дмитрий Валерьевич\n"
     ]
    }
   ],
   "source": [
    "for i, s in enumerate(rec):\n",
    "    print(f'{i}) {s}')"
   ]
  },
  {
   "cell_type": "code",
   "execution_count": 11,
   "id": "808dc594-58a3-453d-8c0c-0a1c140e6ea9",
   "metadata": {},
   "outputs": [
    {
     "name": "stdout",
     "output_type": "stream",
     "text": [
      "\n",
      "Департаментгосударственной политикив сфере научно-технологического развития\n",
      "Министерства науки и высшегообразования Российской Федерации \n",
      "Министерство науки и высшего образованияРоссийской Федерации\n",
      "Федеральное государственное бюджетноеобразовательное учреждение высшего образования\n",
      "«Московский государственныйтехнический университет имени Н.Э.Баумана»(национальный исследовательский университет)»(МГТУ им.Н.Э.Баумана)105005,гМосква, 2-я Бауманская ул.,д. 5,стр. 1тел. +7 (499) 263-63-91 факс+7 (499) 267-48-44bmstu.ru bauman@bmstu.ru0ГРН1027739051779\n",
      "ИНН7701002520  КПП770101001\n",
      "004 2024 № 0104 - 08 [386 # \n",
      "СОПРОВОДИТЕЛЬНОЕ ПИСЬМО\n",
      "Направляем заявку на участие в конкурсном отборе 2024 года на назначениестипендии Президента Российской Федерации для аспирантов и адъюнктов, обучающихсяпо очной форме обучения в российских организациях, осуществляющих образовательнуюдеятельность, и проводящих научные исследования в рамках реализации приоритетовнаучно-технологического развития Российской Федерации, определенных в Стратегиинаучно-технологического развития Российской Федерации.\n",
      "Регистрационный номер: SPN.2024.01630\n",
      "Полное наименование организации (место учебы аспиранта (адъюнкта)):Федеральное государственное бюджетное образовательное учреждение высшегообразования \"Московский государственный технический университет имени Н.Э. Баумана(национальный исследовательский университет)\"\n",
      "ФИО соискателя стипендии: Гокарев Вадим Николаевич\n",
      "Год рождения соискателя стипендии: 1999\n",
      "Статус: Аспирант\n",
      "Форма обучения: очная\n",
      "Курс: 1\n",
      "Дата поступления в аспирантуру (адъюнктуру): 01.09.2023\n",
      "Плановая дата окончания аспирантуры (адъюнктуры): 31.08.2026Научная специальность:\n",
      "\n",
      "2.3.5 Математическое и программное обеспечение вычислительных систем,\n",
      "комплексов и компьютерных сетей\n",
      "Тема диссертации: Гибридные модели и методы программного обеспеченияанализа и обработки текстовых коллекций на естественном языке\n",
      "Приоритег научно-технологического развития: Переход к передовымтехнологиям проектирования и создания высокотехнологичной продукции, основаннымна применении интеллектуальных производственных решений, роботизированных ивысокопроизводительных вычислительных систем, новых материалов и химическихсоединений, результатов обработки больших объемов данных, технологий машинногообучения и искусственного интеллекта\n",
      "ФИО научного руководителя: Березкин Дмитрий Валерьевич\n"
     ]
    }
   ],
   "source": [
    "full = '\\n'.join(rec)\n",
    "print(full)"
   ]
  },
  {
   "cell_type": "code",
   "execution_count": 13,
   "id": "3424a8c2-8439-4248-a9d0-f256e494defb",
   "metadata": {},
   "outputs": [
    {
     "ename": "OperationalError",
     "evalue": "could not translate host name \"postgre\" to address: Name or service not known\n",
     "output_type": "error",
     "traceback": [
      "\u001b[0;31m---------------------------------------------------------------------------\u001b[0m",
      "\u001b[0;31mOperationalError\u001b[0m                          Traceback (most recent call last)",
      "Cell \u001b[0;32mIn[13], line 1\u001b[0m\n\u001b[0;32m----> 1\u001b[0m connection \u001b[38;5;241m=\u001b[39m \u001b[43mpsycopg2\u001b[49m\u001b[38;5;241;43m.\u001b[39;49m\u001b[43mconnect\u001b[49m\u001b[43m(\u001b[49m\u001b[43mdatabase\u001b[49m\u001b[38;5;241;43m=\u001b[39;49m\u001b[38;5;124;43m'\u001b[39;49m\u001b[38;5;124;43mhappy_db\u001b[39;49m\u001b[38;5;124;43m'\u001b[39;49m\u001b[43m,\u001b[49m\u001b[43m \u001b[49m\u001b[43muser\u001b[49m\u001b[38;5;241;43m=\u001b[39;49m\u001b[38;5;124;43m\"\u001b[39;49m\u001b[38;5;124;43mhappy_user\u001b[39;49m\u001b[38;5;124;43m\"\u001b[39;49m\u001b[43m,\u001b[49m\u001b[43m \u001b[49m\u001b[43mpassword\u001b[49m\u001b[38;5;241;43m=\u001b[39;49m\u001b[38;5;124;43m\"\u001b[39;49m\u001b[38;5;124;43mhappy\u001b[39;49m\u001b[38;5;124;43m\"\u001b[39;49m\u001b[43m,\u001b[49m\u001b[43m \u001b[49m\u001b[43mhost\u001b[49m\u001b[38;5;241;43m=\u001b[39;49m\u001b[38;5;124;43m\"\u001b[39;49m\u001b[38;5;124;43mpostgre\u001b[39;49m\u001b[38;5;124;43m\"\u001b[39;49m\u001b[43m,\u001b[49m\u001b[43m \u001b[49m\u001b[43mport\u001b[49m\u001b[38;5;241;43m=\u001b[39;49m\u001b[38;5;124;43m\"\u001b[39;49m\u001b[38;5;124;43m5432\u001b[39;49m\u001b[38;5;124;43m\"\u001b[39;49m\u001b[43m)\u001b[49m\n",
      "File \u001b[0;32m/usr/local/lib/python3.10/site-packages/psycopg2/__init__.py:122\u001b[0m, in \u001b[0;36mconnect\u001b[0;34m(dsn, connection_factory, cursor_factory, **kwargs)\u001b[0m\n\u001b[1;32m    119\u001b[0m     kwasync[\u001b[38;5;124m'\u001b[39m\u001b[38;5;124masync_\u001b[39m\u001b[38;5;124m'\u001b[39m] \u001b[38;5;241m=\u001b[39m kwargs\u001b[38;5;241m.\u001b[39mpop(\u001b[38;5;124m'\u001b[39m\u001b[38;5;124masync_\u001b[39m\u001b[38;5;124m'\u001b[39m)\n\u001b[1;32m    121\u001b[0m dsn \u001b[38;5;241m=\u001b[39m _ext\u001b[38;5;241m.\u001b[39mmake_dsn(dsn, \u001b[38;5;241m*\u001b[39m\u001b[38;5;241m*\u001b[39mkwargs)\n\u001b[0;32m--> 122\u001b[0m conn \u001b[38;5;241m=\u001b[39m \u001b[43m_connect\u001b[49m\u001b[43m(\u001b[49m\u001b[43mdsn\u001b[49m\u001b[43m,\u001b[49m\u001b[43m \u001b[49m\u001b[43mconnection_factory\u001b[49m\u001b[38;5;241;43m=\u001b[39;49m\u001b[43mconnection_factory\u001b[49m\u001b[43m,\u001b[49m\u001b[43m \u001b[49m\u001b[38;5;241;43m*\u001b[39;49m\u001b[38;5;241;43m*\u001b[39;49m\u001b[43mkwasync\u001b[49m\u001b[43m)\u001b[49m\n\u001b[1;32m    123\u001b[0m \u001b[38;5;28;01mif\u001b[39;00m cursor_factory \u001b[38;5;129;01mis\u001b[39;00m \u001b[38;5;129;01mnot\u001b[39;00m \u001b[38;5;28;01mNone\u001b[39;00m:\n\u001b[1;32m    124\u001b[0m     conn\u001b[38;5;241m.\u001b[39mcursor_factory \u001b[38;5;241m=\u001b[39m cursor_factory\n",
      "\u001b[0;31mOperationalError\u001b[0m: could not translate host name \"postgre\" to address: Name or service not known\n"
     ]
    }
   ],
   "source": [
    "connection = psycopg2.connect(database='happy_db', user=\"happy_user\", password=\"happy\", host=\"postgre\", port=\"5432\")"
   ]
  },
  {
   "cell_type": "code",
   "execution_count": null,
   "id": "37864034-ad45-41f1-8460-411bbaf2f2de",
   "metadata": {},
   "outputs": [],
   "source": []
  },
  {
   "cell_type": "code",
   "execution_count": null,
   "id": "17997619-f576-43c7-ad90-7a0cb41e157a",
   "metadata": {},
   "outputs": [],
   "source": []
  },
  {
   "cell_type": "code",
   "execution_count": null,
   "id": "52a67573-d517-4a8b-a793-d98077a85851",
   "metadata": {},
   "outputs": [],
   "source": []
  },
  {
   "cell_type": "code",
   "execution_count": null,
   "id": "0f46aaea-43e9-446f-8a96-0371167c63e1",
   "metadata": {},
   "outputs": [],
   "source": []
  },
  {
   "cell_type": "code",
   "execution_count": 2,
   "id": "3b4034ae-d925-461a-91d8-984e88222d63",
   "metadata": {},
   "outputs": [],
   "source": [
    "def extract_text_from_pdf(pdf_path):\n",
    "    pages = convert_from_path(pdf_path, 900)\n",
    "\n",
    "    # Extract text from each page using Tesseract OCR\n",
    "    text_data = ''\n",
    "    for page in pages:\n",
    "        text = pytesseract.image_to_string(page, lang='eng+rus')\n",
    "        text_data += text + '\\n'\n",
    "\n",
    "    # Return the text data\n",
    "    return text_data"
   ]
  },
  {
   "cell_type": "code",
   "execution_count": 6,
   "id": "889179d4-f8f2-4314-9bcf-75138560dc4c",
   "metadata": {},
   "outputs": [],
   "source": [
    "text1 = extract_text_from_pdf('./Копия_исх._№АТ-480-42_от_12.07.pdf')"
   ]
  },
  {
   "cell_type": "code",
   "execution_count": 7,
   "id": "256fff74-298d-4341-9d37-0aa5a0c425d3",
   "metadata": {
    "scrolled": true
   },
   "outputs": [
    {
     "name": "stdout",
     "output_type": "stream",
     "text": [
      "МИНОБРНАУКИ РОССИИ Начальнику\n",
      "\n",
      "Федеральное государственное ФГБУ «27 ЦНИИ»\n",
      "оюджетное образовательное учреждение Минобороны России\n",
      "высшего образования\n",
      "«МИРЭА - Российский технологический университет»\n",
      "РТУ МИРЭА А.А. ПРОГАСОВУ\n",
      "\n",
      "просп. Вернадского, д. 78, Москва, 119454\n",
      "\n",
      "тел.: +7 (499) 600 80 80, факс: +7 (495) 434 92 87\n",
      "\n",
      "e-mail: mirea@mirea.ru, http.//www.mirea.ru\n",
      "[2.07.2024 Ne АТ-480/42\n",
      "\n",
      "на № OT\n",
      "\n",
      "O сотрудничестве с РТУ МИРЗА\n",
      "\n",
      "Уважаемый Андрей Андреевич!\n",
      "\n",
      "Федеральное государственное бюджетное образовательное учреждение\n",
      "высшего образования «МИРЭА - Российский технологический университет»\n",
      "(далее — РТУ МИРЭА, Университет) олагодарит ФГБУ «27 ЦНИИ»\n",
      "Минобороны России за плодотворное сотрудничество.\n",
      "\n",
      "В рамках взаимодействия РТУ МИРЭА было принято решение о том,\n",
      "что в 2024 году для всех сотрудников ФГБУ «27 ЦНИИ» Минобороны России\n",
      "и их ближайших родственников (супруги, дети), которые планируют\n",
      "продолжить обучение по программам бакалавриата и специалитета в РТУ\n",
      "МИРЭА в том числе в филиалах Университета, будет предусмотрена\n",
      "возможность поступления на платное обучение с компенсацией части\n",
      "стоимости за счёт средств Университета.\n",
      "\n",
      "Со стоимостью и правилами поступления можно ознакомиться\n",
      "на сайтах: https://priem.mirea.ru/guide и https://priem.mirea.ru/first-degree/paid.\n",
      "На основании Положения об основаниях и порядке снижения стоимости\n",
      "\n",
      "платных образовательных услуг в федеральном государственном бюджетном\n",
      "\n",
      "2\n",
      "\n",
      "образовательном учреждении высшего образования «МИРЭА - Российский\n",
      "технологический университет» для лиц, поступающих на договорной основе\n",
      "(СМКО МИРЭА 7.5.3/03.п.02-23} работникам организаций-партнёров\n",
      "РТУ МИРЭА и их ближайшим родственникам (супруги, дети)\n",
      "предоставляется специальная скидка в размере 20% на основании документов,\n",
      "подтверждающих факт трудоустройства в организацию (заверенную копию\n",
      "трудовой книжки или иной документ, подтверждающий факт\n",
      "трудоустройства), и документов, подтверждающих родство (свидетельство о\n",
      "рождении или свидетельство о заключении брака или иные документы,\n",
      "подтверждающие родство). Специальная скидка предоставляется данной\n",
      "категории лиц в период с 20 июня до 12:00 3 августа 2024 года при наличии в\n",
      "Университете подлинника аттестата или диплома о среднем\n",
      "профессиональном образовании, подтверждения оплаты в размере не\n",
      "меньшем, чем величина первого платежа, предусмотренного дополнительным\n",
      "соглашением на скидку к договору, наличии документа, подтверждающего\n",
      "основание предоставления скидки.\n",
      "\n",
      "Контактное лицо по вопросам взаимодействия с предприятиями,\n",
      "поступлению и предоставлению скидки — директор Центра карьеры\n",
      "Галкина Марина Юрьевна (тел. +7 (499) 600-80-80 (доб. 20718),\n",
      "\n",
      "e-mail: galkina@miurea.ru).\n",
      "\n",
      "Проректор по учебной А.В. Тимошенко\n",
      "\n",
      "работе\n",
      "\n",
      "soe a „\n",
      "\n",
      "„ал.  Подаминияк умучроннил о Bus yee cri та,\n",
      "\n",
      "ayy yee eet AE уранитсй oe Soe dt\n",
      "wy сте Покилиян оси рая Pry Map oA\n",
      "\n",
      "СВЕДЕНМЯ © СЕРТИФИКАТЕ ЭП\n",
      "\n",
      "Соремааикат, S244 te Oo Aa ЗАЛА ARPS ADI BAG\n",
      "Bragensy THe eenko AR Oe Воеаолодевитя, Cpe rag\n",
      "Me yet ek [a\n",
      "\n",
      "Aurarbarer ven 7 BOGS Pie to РЕ ВРУ\n",
      "\n",
      "Галкина Марина Юрьевна\n",
      "+? (499) 600-80-80 not, 20718\n",
      "cabkinaeimirea.1u\n",
      "\n",
      "\n"
     ]
    }
   ],
   "source": [
    "# Копия_исх._№АТ-480-42_от_12.07.pdf\n",
    "print(text1) "
   ]
  },
  {
   "cell_type": "code",
   "execution_count": 14,
   "id": "11a8baa2-68e7-4450-8ea2-f96bbbe41aba",
   "metadata": {},
   "outputs": [],
   "source": [
    "# Specify the input PDF file path\n",
    "input_pdf = './Копия_исх._№АТ-480-42_от_12.07.pdf'\n",
    "\n",
    "# Convert the PDF to images (PIL Image objects)\n",
    "images = convert_from_path(input_pdf)\n",
    "\n",
    "# Save each image as a JPEG file\n",
    "for i, img in enumerate(images):\n",
    "    img.save('page_{}.jpg'.format(i+1))"
   ]
  },
  {
   "cell_type": "code",
   "execution_count": 17,
   "id": "d44cf558-0951-4cd3-8ad3-adbad3e5d416",
   "metadata": {},
   "outputs": [],
   "source": [
    "# Convert to grayscale, apply thresholding, and remove noise\n",
    "image = cv2.imread('./page_1.jpg')\n",
    "\n",
    "gray = cv2.cvtColor(image, cv2.COLOR_BGR2GRAY)\n",
    "thresh = cv2.threshold(gray, 0, 255, cv2.THRESH_BINARY_INV + cv2.THRESH_OTSU)[1]\n",
    "noise_reduced = cv2.GaussianBlur(thresh, (5, 5), 0)\n",
    "\n",
    "# Create a PIL Image object from the preprocessed image\n",
    "pil_image = Image.fromarray(noise_reduced)\n",
    "\n",
    "# Set the custom configuration for Pytesseract\n",
    "custom_config = r'--oem 3 --psm 6'\n",
    "\n",
    "text = pytesseract.image_to_string(pil_image, config=custom_config, lang='eng+rus')\n",
    "text_data += text + '\\n'"
   ]
  },
  {
   "cell_type": "code",
   "execution_count": 18,
   "id": "d2cde335-788c-458a-8a96-35c45602bb50",
   "metadata": {
    "scrolled": true
   },
   "outputs": [
    {
     "name": "stdout",
     "output_type": "stream",
     "text": [
      "2 а:\n",
      "Е ce be\n",
      "Tes aS =\n",
      "Bey\n",
      "re\n",
      "Gps\n",
      "МИНОБРНАУКИ РОССИИ Начальнику\n",
      "Федеральное государственное ФГБУ «27 ЦНИИ»\n",
      "бюджетное образовательное учреждение Минобороны России\n",
      "Mur) высшего образования\n",
      "« А — Российский технологический университет»\n",
      "РТУ МИРЭА А.А. ПРОТАСОВУ\n",
      "просп. Вернадского, д. 78, Москва, 119454\n",
      "тел.: +7 (499) 600 80 80, факс: +7 (495) 434 92 87\n",
      "e-mail: mirea@mirea.cu, http://www.mirea.co |\n",
      "12.07.2024 № _АТ-480/42\n",
      "на № от.\n",
      "О сотрудничестве с РТУ МИРЭА\n",
      "Уважаемый Андрей Андреевич!\n",
      "\n",
      "Федеральное государственное бюджетное образовательное учреждение\n",
      "высшего образования «МИРЭА - Российский технологический университет»\n",
      "(далее - РТУ МИРЭА, Университет) благодарит ФГБУ «27 ЦНИИ»\n",
      "Минобороны России за плодотворное сотрудничество.\n",
      "\n",
      "В рамках взаимодействия РТУ МИРЭА было принято решение о том,\n",
      "что в 2024 году для всех сотрудников ФГБУ «27 ЦНИИ» Минобороны России\n",
      "и их ближайших родственников (супруги, дети), которые планируют\n",
      "продолжить обучение по программам бакалавриата и специалитета в РТУ\n",
      "МИРЭА в том числе в филиалах Университета, будет предусмотрена\n",
      "возможность поступления на платное обучение с компенсацией части\n",
      "стоимости за счёт средств Университета.\n",
      "\n",
      "Со стоимостью и правилами поступления можно ознакомиться\n",
      "на сайтах: https://priem.mirea.ru/guide и https://priem.mirea.rw/first-degree/paid.\n",
      "\n",
      "На основании Положения об основаниях и порядке снижения стоимости\n",
      "платных образовательных услуг в федеральном государственном бюджетном\n",
      "\n",
      "ARP, Dine\n",
      "\n",
      "\n"
     ]
    }
   ],
   "source": [
    "# Return the text data\n",
    "print(text_data)"
   ]
  },
  {
   "cell_type": "code",
   "execution_count": null,
   "id": "75e35a42-9a5b-4a27-b425-6126327b1a6d",
   "metadata": {},
   "outputs": [],
   "source": [
    "import json"
   ]
  },
  {
   "cell_type": "code",
   "execution_count": 100,
   "id": "1673e17a-dd10-412f-a46d-e22d8d63f2a8",
   "metadata": {},
   "outputs": [],
   "source": [
    "parsed_document_dict = parsed_document.to_api_schema().model_dump()\n",
    "output_json_name = f\"{parsed_document.metadata.file_name}.json\"\n",
    "with open(output_json_name, \"w\") as json_file:\n",
    "    json.dump(parsed_document_dict, json_file)"
   ]
  },
  {
   "cell_type": "code",
   "execution_count": null,
   "id": "a39a9a0c-01a4-4e35-9f0b-9cb49161402d",
   "metadata": {},
   "outputs": [],
   "source": []
  }
 ],
 "metadata": {
  "kernelspec": {
   "display_name": "Python 3 (ipykernel)",
   "language": "python",
   "name": "python3"
  },
  "language_info": {
   "codemirror_mode": {
    "name": "ipython",
    "version": 3
   },
   "file_extension": ".py",
   "mimetype": "text/x-python",
   "name": "python",
   "nbconvert_exporter": "python",
   "pygments_lexer": "ipython3",
   "version": "3.10.16"
  }
 },
 "nbformat": 4,
 "nbformat_minor": 5
}
